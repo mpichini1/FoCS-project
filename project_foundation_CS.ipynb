{
 "cells": [
  {
   "cell_type": "markdown",
   "metadata": {},
   "source": [
    "\n",
    "# Foundations of Computer Science project"
   ]
  },
  {
   "cell_type": "markdown",
   "metadata": {},
   "source": [
    "Libraries Import"
   ]
  },
  {
   "cell_type": "code",
   "execution_count": 1,
   "metadata": {},
   "outputs": [],
   "source": [
    "import pandas as pd\n",
    "import time\n",
    "#import datetime\n",
    "#from datetime import date, datetime\n",
    "from pandas.io.json import json_normalize\n",
    "import numpy as np\n",
    "import random\n",
    "pd.set_option('display.max_columns', None)\n"
   ]
  },
  {
   "cell_type": "markdown",
   "metadata": {},
   "source": [
    "Loan Lenders Dataset Import "
   ]
  },
  {
   "cell_type": "code",
   "execution_count": 2,
   "metadata": {
    "scrolled": false
   },
   "outputs": [
    {
     "data": {
      "text/html": [
       "<div>\n",
       "<style scoped>\n",
       "    .dataframe tbody tr th:only-of-type {\n",
       "        vertical-align: middle;\n",
       "    }\n",
       "\n",
       "    .dataframe tbody tr th {\n",
       "        vertical-align: top;\n",
       "    }\n",
       "\n",
       "    .dataframe thead th {\n",
       "        text-align: right;\n",
       "    }\n",
       "</style>\n",
       "<table border=\"1\" class=\"dataframe\">\n",
       "  <thead>\n",
       "    <tr style=\"text-align: right;\">\n",
       "      <th></th>\n",
       "      <th>loan_id</th>\n",
       "      <th>lenders</th>\n",
       "    </tr>\n",
       "  </thead>\n",
       "  <tbody>\n",
       "    <tr>\n",
       "      <th>0</th>\n",
       "      <td>483693</td>\n",
       "      <td>muc888, sam4326, camaran3922, lachheb1865, reb...</td>\n",
       "    </tr>\n",
       "    <tr>\n",
       "      <th>1</th>\n",
       "      <td>483738</td>\n",
       "      <td>muc888, nora3555, williammanashi, barbara5610,...</td>\n",
       "    </tr>\n",
       "    <tr>\n",
       "      <th>2</th>\n",
       "      <td>485000</td>\n",
       "      <td>muc888, terrystl, richardandsusan8352, sherri4...</td>\n",
       "    </tr>\n",
       "    <tr>\n",
       "      <th>3</th>\n",
       "      <td>486087</td>\n",
       "      <td>muc888, james5068, rudi5955, daniel9859, don92...</td>\n",
       "    </tr>\n",
       "    <tr>\n",
       "      <th>4</th>\n",
       "      <td>534428</td>\n",
       "      <td>muc888, niki3008, teresa9174, mike4896, david7...</td>\n",
       "    </tr>\n",
       "  </tbody>\n",
       "</table>\n",
       "</div>"
      ],
      "text/plain": [
       "   loan_id                                            lenders\n",
       "0   483693  muc888, sam4326, camaran3922, lachheb1865, reb...\n",
       "1   483738  muc888, nora3555, williammanashi, barbara5610,...\n",
       "2   485000  muc888, terrystl, richardandsusan8352, sherri4...\n",
       "3   486087  muc888, james5068, rudi5955, daniel9859, don92...\n",
       "4   534428  muc888, niki3008, teresa9174, mike4896, david7..."
      ]
     },
     "execution_count": 2,
     "metadata": {},
     "output_type": "execute_result"
    }
   ],
   "source": [
    "#using time.time to evaluate the script performance\n",
    "start = time.time()\n",
    "\n",
    "df_lenders = pd.read_csv(\"./loans_lenders.csv\")\n",
    "\n",
    "df_lenders.head()"
   ]
  },
  {
   "cell_type": "markdown",
   "metadata": {},
   "source": [
    "# Exercise 1"
   ]
  },
  {
   "cell_type": "markdown",
   "metadata": {},
   "source": [
    "Normalizing the Dataset "
   ]
  },
  {
   "cell_type": "code",
   "execution_count": 3,
   "metadata": {},
   "outputs": [
    {
     "data": {
      "text/html": [
       "<div>\n",
       "<style scoped>\n",
       "    .dataframe tbody tr th:only-of-type {\n",
       "        vertical-align: middle;\n",
       "    }\n",
       "\n",
       "    .dataframe tbody tr th {\n",
       "        vertical-align: top;\n",
       "    }\n",
       "\n",
       "    .dataframe thead th {\n",
       "        text-align: right;\n",
       "    }\n",
       "</style>\n",
       "<table border=\"1\" class=\"dataframe\">\n",
       "  <thead>\n",
       "    <tr style=\"text-align: right;\">\n",
       "      <th></th>\n",
       "      <th>loan_id</th>\n",
       "      <th>lenders</th>\n",
       "    </tr>\n",
       "  </thead>\n",
       "  <tbody>\n",
       "    <tr>\n",
       "      <th>0</th>\n",
       "      <td>483693</td>\n",
       "      <td>muc888</td>\n",
       "    </tr>\n",
       "    <tr>\n",
       "      <th>1</th>\n",
       "      <td>483693</td>\n",
       "      <td>sam4326</td>\n",
       "    </tr>\n",
       "    <tr>\n",
       "      <th>2</th>\n",
       "      <td>483693</td>\n",
       "      <td>camaran3922</td>\n",
       "    </tr>\n",
       "    <tr>\n",
       "      <th>3</th>\n",
       "      <td>483693</td>\n",
       "      <td>lachheb1865</td>\n",
       "    </tr>\n",
       "    <tr>\n",
       "      <th>4</th>\n",
       "      <td>483693</td>\n",
       "      <td>rebecca3499</td>\n",
       "    </tr>\n",
       "  </tbody>\n",
       "</table>\n",
       "</div>"
      ],
      "text/plain": [
       "   loan_id      lenders\n",
       "0   483693       muc888\n",
       "1   483693      sam4326\n",
       "2   483693  camaran3922\n",
       "3   483693  lachheb1865\n",
       "4   483693  rebecca3499"
      ]
     },
     "execution_count": 3,
     "metadata": {},
     "output_type": "execute_result"
    }
   ],
   "source": [
    "df_lenders_norm = (df_lenders.set_index(['loan_id'])\n",
    "                   .apply(lambda x: x.str.split(', ').explode())\n",
    "                   .reset_index())\n",
    "\n",
    "df_lenders_norm.head()"
   ]
  },
  {
   "cell_type": "markdown",
   "metadata": {},
   "source": [
    "# Exercise 2"
   ]
  },
  {
   "cell_type": "markdown",
   "metadata": {},
   "source": [
    "Adding a column duration corresponding to the number of days between the disburse time and the planned expiration time of the loans.csv Dataset."
   ]
  },
  {
   "cell_type": "code",
   "execution_count": 4,
   "metadata": {
    "scrolled": true
   },
   "outputs": [
    {
     "data": {
      "text/html": [
       "<div>\n",
       "<style scoped>\n",
       "    .dataframe tbody tr th:only-of-type {\n",
       "        vertical-align: middle;\n",
       "    }\n",
       "\n",
       "    .dataframe tbody tr th {\n",
       "        vertical-align: top;\n",
       "    }\n",
       "\n",
       "    .dataframe thead th {\n",
       "        text-align: right;\n",
       "    }\n",
       "</style>\n",
       "<table border=\"1\" class=\"dataframe\">\n",
       "  <thead>\n",
       "    <tr style=\"text-align: right;\">\n",
       "      <th></th>\n",
       "      <th>loan_id</th>\n",
       "      <th>loan_name</th>\n",
       "      <th>original_language</th>\n",
       "      <th>description</th>\n",
       "      <th>description_translated</th>\n",
       "      <th>funded_amount</th>\n",
       "      <th>loan_amount</th>\n",
       "      <th>status</th>\n",
       "      <th>activity_name</th>\n",
       "      <th>sector_name</th>\n",
       "      <th>loan_use</th>\n",
       "      <th>country_code</th>\n",
       "      <th>country_name</th>\n",
       "      <th>town_name</th>\n",
       "      <th>currency_policy</th>\n",
       "      <th>currency_exchange_coverage_rate</th>\n",
       "      <th>currency</th>\n",
       "      <th>partner_id</th>\n",
       "      <th>posted_time</th>\n",
       "      <th>planned_expiration_time</th>\n",
       "      <th>disburse_time</th>\n",
       "      <th>raised_time</th>\n",
       "      <th>lender_term</th>\n",
       "      <th>num_lenders_total</th>\n",
       "      <th>num_journal_entries</th>\n",
       "      <th>num_bulk_entries</th>\n",
       "      <th>tags</th>\n",
       "      <th>borrower_genders</th>\n",
       "      <th>borrower_pictured</th>\n",
       "      <th>repayment_interval</th>\n",
       "      <th>distribution_model</th>\n",
       "    </tr>\n",
       "  </thead>\n",
       "  <tbody>\n",
       "    <tr>\n",
       "      <th>0</th>\n",
       "      <td>657307</td>\n",
       "      <td>Aivy</td>\n",
       "      <td>English</td>\n",
       "      <td>Aivy, 21 years of age, is single and lives in ...</td>\n",
       "      <td>NaN</td>\n",
       "      <td>125.0</td>\n",
       "      <td>125.0</td>\n",
       "      <td>funded</td>\n",
       "      <td>General Store</td>\n",
       "      <td>Retail</td>\n",
       "      <td>to buy additional inventories for her sari-sa...</td>\n",
       "      <td>PH</td>\n",
       "      <td>Philippines</td>\n",
       "      <td>Ozamiz - Ozamiz City</td>\n",
       "      <td>shared</td>\n",
       "      <td>0.1</td>\n",
       "      <td>PHP</td>\n",
       "      <td>126.0</td>\n",
       "      <td>2014-01-15 02:23:45.000 +0000</td>\n",
       "      <td>2014-02-14 03:30:06.000 +0000</td>\n",
       "      <td>2013-12-22 08:00:00.000 +0000</td>\n",
       "      <td>2014-01-15 04:48:22.000 +0000</td>\n",
       "      <td>7.0</td>\n",
       "      <td>3</td>\n",
       "      <td>2</td>\n",
       "      <td>1</td>\n",
       "      <td>NaN</td>\n",
       "      <td>female</td>\n",
       "      <td>true</td>\n",
       "      <td>irregular</td>\n",
       "      <td>field_partner</td>\n",
       "    </tr>\n",
       "    <tr>\n",
       "      <th>1</th>\n",
       "      <td>657259</td>\n",
       "      <td>Idalia Marizza</td>\n",
       "      <td>Spanish</td>\n",
       "      <td>Doña Idalia, esta casada, tiene 57 años de eda...</td>\n",
       "      <td>Idalia, 57, is married and lives with her husb...</td>\n",
       "      <td>400.0</td>\n",
       "      <td>400.0</td>\n",
       "      <td>funded</td>\n",
       "      <td>Used Clothing</td>\n",
       "      <td>Clothing</td>\n",
       "      <td>To buy American clothing such as blouses, shir...</td>\n",
       "      <td>HN</td>\n",
       "      <td>Honduras</td>\n",
       "      <td>La Lopez, Choloma</td>\n",
       "      <td>shared</td>\n",
       "      <td>0.1</td>\n",
       "      <td>HNL</td>\n",
       "      <td>201.0</td>\n",
       "      <td>2014-01-14 20:23:20.000 +0000</td>\n",
       "      <td>2014-03-26 22:25:07.000 +0000</td>\n",
       "      <td>2013-12-20 08:00:00.000 +0000</td>\n",
       "      <td>2014-02-25 06:42:06.000 +0000</td>\n",
       "      <td>8.0</td>\n",
       "      <td>11</td>\n",
       "      <td>2</td>\n",
       "      <td>1</td>\n",
       "      <td>NaN</td>\n",
       "      <td>female</td>\n",
       "      <td>true</td>\n",
       "      <td>monthly</td>\n",
       "      <td>field_partner</td>\n",
       "    </tr>\n",
       "    <tr>\n",
       "      <th>2</th>\n",
       "      <td>658010</td>\n",
       "      <td>Aasia</td>\n",
       "      <td>English</td>\n",
       "      <td>Aasia is a 45-year-old married lady and she ha...</td>\n",
       "      <td>NaN</td>\n",
       "      <td>400.0</td>\n",
       "      <td>400.0</td>\n",
       "      <td>funded</td>\n",
       "      <td>General Store</td>\n",
       "      <td>Retail</td>\n",
       "      <td>to buy stock of rice, sugar and flour</td>\n",
       "      <td>PK</td>\n",
       "      <td>Pakistan</td>\n",
       "      <td>Lala Musa</td>\n",
       "      <td>shared</td>\n",
       "      <td>0.1</td>\n",
       "      <td>PKR</td>\n",
       "      <td>245.0</td>\n",
       "      <td>2014-01-16 11:32:58.000 +0000</td>\n",
       "      <td>2014-02-15 21:10:05.000 +0000</td>\n",
       "      <td>2014-01-09 08:00:00.000 +0000</td>\n",
       "      <td>2014-01-24 23:06:18.000 +0000</td>\n",
       "      <td>14.0</td>\n",
       "      <td>16</td>\n",
       "      <td>2</td>\n",
       "      <td>1</td>\n",
       "      <td>#Woman Owned Biz, #Supporting Family, user_fav...</td>\n",
       "      <td>female</td>\n",
       "      <td>true</td>\n",
       "      <td>monthly</td>\n",
       "      <td>field_partner</td>\n",
       "    </tr>\n",
       "    <tr>\n",
       "      <th>3</th>\n",
       "      <td>659347</td>\n",
       "      <td>Gulmira</td>\n",
       "      <td>Russian</td>\n",
       "      <td>Гулмире 36 лет, замужем, вместе с супругом вос...</td>\n",
       "      <td>Gulmira is 36 years old and married.  She and ...</td>\n",
       "      <td>625.0</td>\n",
       "      <td>625.0</td>\n",
       "      <td>funded</td>\n",
       "      <td>Farming</td>\n",
       "      <td>Agriculture</td>\n",
       "      <td>to buy cucumber and tomato seeds, as well as f...</td>\n",
       "      <td>KG</td>\n",
       "      <td>Kyrgyzstan</td>\n",
       "      <td>Aravan village, Osh region</td>\n",
       "      <td>shared</td>\n",
       "      <td>0.1</td>\n",
       "      <td>KGS</td>\n",
       "      <td>171.0</td>\n",
       "      <td>2014-01-20 09:59:48.000 +0000</td>\n",
       "      <td>2014-02-21 03:10:02.000 +0000</td>\n",
       "      <td>2014-01-17 08:00:00.000 +0000</td>\n",
       "      <td>2014-01-22 05:29:28.000 +0000</td>\n",
       "      <td>14.0</td>\n",
       "      <td>21</td>\n",
       "      <td>2</td>\n",
       "      <td>1</td>\n",
       "      <td>user_favorite</td>\n",
       "      <td>female</td>\n",
       "      <td>true</td>\n",
       "      <td>monthly</td>\n",
       "      <td>field_partner</td>\n",
       "    </tr>\n",
       "    <tr>\n",
       "      <th>4</th>\n",
       "      <td>656933</td>\n",
       "      <td>Ricky\\t</td>\n",
       "      <td>English</td>\n",
       "      <td>Ricky is a farmer who currently cultivates his...</td>\n",
       "      <td>NaN</td>\n",
       "      <td>425.0</td>\n",
       "      <td>425.0</td>\n",
       "      <td>funded</td>\n",
       "      <td>Farming</td>\n",
       "      <td>Agriculture</td>\n",
       "      <td>to buy organic fertilizer and agrochemical pr...</td>\n",
       "      <td>PH</td>\n",
       "      <td>Philippines</td>\n",
       "      <td>Baleleng, Sto. Thomas, Isabela</td>\n",
       "      <td>shared</td>\n",
       "      <td>0.1</td>\n",
       "      <td>PHP</td>\n",
       "      <td>123.0</td>\n",
       "      <td>2014-01-14 05:46:21.000 +0000</td>\n",
       "      <td>2014-02-13 06:10:02.000 +0000</td>\n",
       "      <td>2013-12-17 08:00:00.000 +0000</td>\n",
       "      <td>2014-01-14 17:29:27.000 +0000</td>\n",
       "      <td>7.0</td>\n",
       "      <td>15</td>\n",
       "      <td>2</td>\n",
       "      <td>1</td>\n",
       "      <td>#Animals, #Eco-friendly, #Sustainable Ag</td>\n",
       "      <td>male</td>\n",
       "      <td>true</td>\n",
       "      <td>bullet</td>\n",
       "      <td>field_partner</td>\n",
       "    </tr>\n",
       "  </tbody>\n",
       "</table>\n",
       "</div>"
      ],
      "text/plain": [
       "   loan_id       loan_name original_language  \\\n",
       "0   657307            Aivy           English   \n",
       "1   657259  Idalia Marizza           Spanish   \n",
       "2   658010           Aasia           English   \n",
       "3   659347         Gulmira           Russian   \n",
       "4   656933         Ricky\\t           English   \n",
       "\n",
       "                                         description  \\\n",
       "0  Aivy, 21 years of age, is single and lives in ...   \n",
       "1  Doña Idalia, esta casada, tiene 57 años de eda...   \n",
       "2  Aasia is a 45-year-old married lady and she ha...   \n",
       "3  Гулмире 36 лет, замужем, вместе с супругом вос...   \n",
       "4  Ricky is a farmer who currently cultivates his...   \n",
       "\n",
       "                              description_translated  funded_amount  \\\n",
       "0                                                NaN          125.0   \n",
       "1  Idalia, 57, is married and lives with her husb...          400.0   \n",
       "2                                                NaN          400.0   \n",
       "3  Gulmira is 36 years old and married.  She and ...          625.0   \n",
       "4                                                NaN          425.0   \n",
       "\n",
       "   loan_amount  status  activity_name  sector_name  \\\n",
       "0        125.0  funded  General Store       Retail   \n",
       "1        400.0  funded  Used Clothing     Clothing   \n",
       "2        400.0  funded  General Store       Retail   \n",
       "3        625.0  funded        Farming  Agriculture   \n",
       "4        425.0  funded        Farming  Agriculture   \n",
       "\n",
       "                                            loan_use country_code  \\\n",
       "0   to buy additional inventories for her sari-sa...           PH   \n",
       "1  To buy American clothing such as blouses, shir...           HN   \n",
       "2              to buy stock of rice, sugar and flour           PK   \n",
       "3  to buy cucumber and tomato seeds, as well as f...           KG   \n",
       "4   to buy organic fertilizer and agrochemical pr...           PH   \n",
       "\n",
       "  country_name                       town_name currency_policy  \\\n",
       "0  Philippines            Ozamiz - Ozamiz City          shared   \n",
       "1     Honduras               La Lopez, Choloma          shared   \n",
       "2     Pakistan                       Lala Musa          shared   \n",
       "3   Kyrgyzstan      Aravan village, Osh region          shared   \n",
       "4  Philippines  Baleleng, Sto. Thomas, Isabela          shared   \n",
       "\n",
       "   currency_exchange_coverage_rate currency  partner_id  \\\n",
       "0                              0.1      PHP       126.0   \n",
       "1                              0.1      HNL       201.0   \n",
       "2                              0.1      PKR       245.0   \n",
       "3                              0.1      KGS       171.0   \n",
       "4                              0.1      PHP       123.0   \n",
       "\n",
       "                     posted_time        planned_expiration_time  \\\n",
       "0  2014-01-15 02:23:45.000 +0000  2014-02-14 03:30:06.000 +0000   \n",
       "1  2014-01-14 20:23:20.000 +0000  2014-03-26 22:25:07.000 +0000   \n",
       "2  2014-01-16 11:32:58.000 +0000  2014-02-15 21:10:05.000 +0000   \n",
       "3  2014-01-20 09:59:48.000 +0000  2014-02-21 03:10:02.000 +0000   \n",
       "4  2014-01-14 05:46:21.000 +0000  2014-02-13 06:10:02.000 +0000   \n",
       "\n",
       "                   disburse_time                    raised_time  lender_term  \\\n",
       "0  2013-12-22 08:00:00.000 +0000  2014-01-15 04:48:22.000 +0000          7.0   \n",
       "1  2013-12-20 08:00:00.000 +0000  2014-02-25 06:42:06.000 +0000          8.0   \n",
       "2  2014-01-09 08:00:00.000 +0000  2014-01-24 23:06:18.000 +0000         14.0   \n",
       "3  2014-01-17 08:00:00.000 +0000  2014-01-22 05:29:28.000 +0000         14.0   \n",
       "4  2013-12-17 08:00:00.000 +0000  2014-01-14 17:29:27.000 +0000          7.0   \n",
       "\n",
       "   num_lenders_total  num_journal_entries  num_bulk_entries  \\\n",
       "0                  3                    2                 1   \n",
       "1                 11                    2                 1   \n",
       "2                 16                    2                 1   \n",
       "3                 21                    2                 1   \n",
       "4                 15                    2                 1   \n",
       "\n",
       "                                                tags borrower_genders  \\\n",
       "0                                                NaN           female   \n",
       "1                                                NaN           female   \n",
       "2  #Woman Owned Biz, #Supporting Family, user_fav...           female   \n",
       "3                                      user_favorite           female   \n",
       "4           #Animals, #Eco-friendly, #Sustainable Ag             male   \n",
       "\n",
       "  borrower_pictured repayment_interval distribution_model  \n",
       "0              true          irregular      field_partner  \n",
       "1              true            monthly      field_partner  \n",
       "2              true            monthly      field_partner  \n",
       "3              true            monthly      field_partner  \n",
       "4              true             bullet      field_partner  "
      ]
     },
     "execution_count": 4,
     "metadata": {},
     "output_type": "execute_result"
    }
   ],
   "source": [
    "df_loans = pd.read_csv(\"./loans.csv\")\n",
    "\n",
    "df_loans.head()"
   ]
  },
  {
   "cell_type": "markdown",
   "metadata": {},
   "source": [
    "Turning date from str format to Timestamp using pd.to_datetime()"
   ]
  },
  {
   "cell_type": "code",
   "execution_count": 5,
   "metadata": {},
   "outputs": [
    {
     "data": {
      "text/plain": [
       "0          53.0\n",
       "1          96.0\n",
       "2          37.0\n",
       "3          34.0\n",
       "4          57.0\n",
       "           ... \n",
       "1419602    39.0\n",
       "1419603    39.0\n",
       "1419604    51.0\n",
       "1419605    63.0\n",
       "1419606    61.0\n",
       "Name: duration, Length: 1419607, dtype: float64"
      ]
     },
     "execution_count": 5,
     "metadata": {},
     "output_type": "execute_result"
    }
   ],
   "source": [
    "df_loans['planned_expiration_time'] = pd.to_datetime(df_loans['planned_expiration_time'])\n",
    "df_loans['disburse_time'] = pd.to_datetime(df_loans['disburse_time'])\n",
    "df_loans['duration'] = (df_loans['planned_expiration_time'] - df_loans['disburse_time']).apply(lambda x: x.days)\n",
    "\n",
    "df_loans['duration']"
   ]
  },
  {
   "cell_type": "markdown",
   "metadata": {},
   "source": [
    "# Exercise 3"
   ]
  },
  {
   "cell_type": "markdown",
   "metadata": {},
   "source": [
    "Lenders that have funded at least twice."
   ]
  },
  {
   "cell_type": "code",
   "execution_count": 6,
   "metadata": {},
   "outputs": [
    {
     "data": {
      "text/plain": [
       "gooddogg1           167512\n",
       "trolltech4460       141268\n",
       "gmct                123164\n",
       "nms                  96713\n",
       "themissionbeltco     74067\n",
       "                     ...  \n",
       "rowan4339                2\n",
       "shannon4894              2\n",
       "amber5326                2\n",
       "nick3320                 2\n",
       "tim4190                  2\n",
       "Name: lenders, Length: 893981, dtype: int64"
      ]
     },
     "execution_count": 6,
     "metadata": {},
     "output_type": "execute_result"
    }
   ],
   "source": [
    "df_lenders_and_loans = pd.merge(df_lenders_norm, df_loans[['loan_id','status','loan_amount']], on = \"loan_id\")\n",
    "loan_funded = df_lenders_and_loans.loc[df_lenders_and_loans['status'].isin(['funded'])]\n",
    "\n",
    "loan_funded['lenders'].value_counts().loc[lambda x: x >= 2]      "
   ]
  },
  {
   "cell_type": "markdown",
   "metadata": {},
   "source": [
    "# Exercise 4"
   ]
  },
  {
   "cell_type": "markdown",
   "metadata": {},
   "source": [
    "Number of loans that have involved each country as borrowers."
   ]
  },
  {
   "cell_type": "code",
   "execution_count": 7,
   "metadata": {},
   "outputs": [
    {
     "data": {
      "text/plain": [
       "Philippines         285336\n",
       "Kenya               143699\n",
       "Peru                 86000\n",
       "Cambodia             79701\n",
       "El Salvador          64037\n",
       "                     ...  \n",
       "Mauritania               1\n",
       "Canada                   1\n",
       "Uruguay                  1\n",
       "Papua New Guinea         1\n",
       "Botswana                 1\n",
       "Name: country_name, Length: 96, dtype: int64"
      ]
     },
     "execution_count": 7,
     "metadata": {},
     "output_type": "execute_result"
    }
   ],
   "source": [
    "df_loans['country_name'].value_counts()"
   ]
  },
  {
   "cell_type": "markdown",
   "metadata": {},
   "source": [
    "# Exercise 5"
   ]
  },
  {
   "cell_type": "markdown",
   "metadata": {},
   "source": [
    "Overall amount of money borrowed per Country."
   ]
  },
  {
   "cell_type": "code",
   "execution_count": 8,
   "metadata": {},
   "outputs": [
    {
     "data": {
      "text/plain": [
       "country_code\n",
       "AF     1967950.0\n",
       "AL     4307350.0\n",
       "AM    22950475.0\n",
       "AZ    14784625.0\n",
       "BA      477250.0\n",
       "         ...    \n",
       "XK     3083025.0\n",
       "YE     3444000.0\n",
       "ZA     1006525.0\n",
       "ZM     1978975.0\n",
       "ZW     5851875.0\n",
       "Name: loan_amount, Length: 95, dtype: float64"
      ]
     },
     "execution_count": 8,
     "metadata": {},
     "output_type": "execute_result"
    }
   ],
   "source": [
    "country_borrowed_amount = df_loans.groupby('country_code')['loan_amount'].sum()\n",
    "\n",
    "country_borrowed_amount"
   ]
  },
  {
   "cell_type": "markdown",
   "metadata": {},
   "source": [
    "# Exercise 6"
   ]
  },
  {
   "cell_type": "markdown",
   "metadata": {},
   "source": [
    "Overall amount of money borrowed per Country as percentage."
   ]
  },
  {
   "cell_type": "code",
   "execution_count": 9,
   "metadata": {},
   "outputs": [],
   "source": [
    "#country_borrowed_amount = df_loans.groupby('country_code')['loan_amount'].sum()"
   ]
  },
  {
   "cell_type": "code",
   "execution_count": 10,
   "metadata": {},
   "outputs": [
    {
     "data": {
      "text/plain": [
       "country_code\n",
       "AF    0.166573\n",
       "AL    0.364586\n",
       "AM    1.942589\n",
       "AZ    1.251410\n",
       "BA    0.040396\n",
       "        ...   \n",
       "XK    0.260955\n",
       "YE    0.291509\n",
       "ZA    0.085195\n",
       "ZM    0.167506\n",
       "ZW    0.495318\n",
       "Name: loan_amount, Length: 95, dtype: float64"
      ]
     },
     "execution_count": 10,
     "metadata": {},
     "output_type": "execute_result"
    }
   ],
   "source": [
    "country_borrowed_amount / df_loans['loan_amount'].sum() *100"
   ]
  },
  {
   "cell_type": "markdown",
   "metadata": {},
   "source": [
    "# Exercise 7"
   ]
  },
  {
   "cell_type": "markdown",
   "metadata": {},
   "source": [
    "Number of loans that have involved each country as borrowers, divided for each year."
   ]
  },
  {
   "cell_type": "code",
   "execution_count": 11,
   "metadata": {},
   "outputs": [
    {
     "data": {
      "text/plain": [
       "country_name  disburse_time  country_name\n",
       "Afghanistan   2007.0         Afghanistan      408\n",
       "              2008.0         Afghanistan      370\n",
       "              2009.0         Afghanistan      678\n",
       "              2010.0         Afghanistan      632\n",
       "              2011.0         Afghanistan      247\n",
       "                                             ... \n",
       "Zimbabwe      2013.0         Zimbabwe         426\n",
       "              2014.0         Zimbabwe        2078\n",
       "              2015.0         Zimbabwe         600\n",
       "              2016.0         Zimbabwe         808\n",
       "              2017.0         Zimbabwe        1079\n",
       "Name: country_name, Length: 748, dtype: int64"
      ]
     },
     "execution_count": 11,
     "metadata": {},
     "output_type": "execute_result"
    }
   ],
   "source": [
    "df_loans.groupby([df_loans['country_name'\n",
    "                              ],df_loans['disburse_time'].dt.year])['country_name'].value_counts()"
   ]
  },
  {
   "cell_type": "markdown",
   "metadata": {},
   "source": [
    "Overall amount of money borrowed per Country, divided for each year."
   ]
  },
  {
   "cell_type": "code",
   "execution_count": 12,
   "metadata": {
    "scrolled": true
   },
   "outputs": [
    {
     "data": {
      "text/plain": [
       "country_name  disburse_time\n",
       "Afghanistan   2007.0            194975.0\n",
       "              2008.0            365375.0\n",
       "              2009.0            585125.0\n",
       "              2010.0            563350.0\n",
       "              2011.0            245125.0\n",
       "                                 ...    \n",
       "Zimbabwe      2013.0            678525.0\n",
       "              2014.0           1311575.0\n",
       "              2015.0            723625.0\n",
       "              2016.0            788600.0\n",
       "              2017.0           1237600.0\n",
       "Name: loan_amount, Length: 748, dtype: float64"
      ]
     },
     "execution_count": 12,
     "metadata": {},
     "output_type": "execute_result"
    }
   ],
   "source": [
    "df_loans.groupby([df_loans['country_name'\n",
    "                          ],df_loans['disburse_time'].dt.year])['loan_amount'].sum() "
   ]
  },
  {
   "cell_type": "markdown",
   "metadata": {},
   "source": [
    "Overall amount of money borrowed per Country as percentage, divided for each year."
   ]
  },
  {
   "cell_type": "code",
   "execution_count": 13,
   "metadata": {},
   "outputs": [
    {
     "data": {
      "text/plain": [
       "country_name  disburse_time\n",
       "Afghanistan   2007.0           0.016503\n",
       "              2008.0           0.030926\n",
       "              2009.0           0.049527\n",
       "              2010.0           0.047683\n",
       "              2011.0           0.020748\n",
       "                                 ...   \n",
       "Zimbabwe      2013.0           0.057432\n",
       "              2014.0           0.111015\n",
       "              2015.0           0.061250\n",
       "              2016.0           0.066749\n",
       "              2017.0           0.104754\n",
       "Name: loan_amount, Length: 748, dtype: float64"
      ]
     },
     "execution_count": 13,
     "metadata": {},
     "output_type": "execute_result"
    }
   ],
   "source": [
    "df_loans.groupby([df_loans['country_name'],\n",
    "                    df_loans['disburse_time'].dt.year])['loan_amount'].sum() / df_loans['loan_amount'].sum() *100"
   ]
  },
  {
   "cell_type": "markdown",
   "metadata": {},
   "source": [
    "# Exercise 8"
   ]
  },
  {
   "cell_type": "markdown",
   "metadata": {},
   "source": [
    "Overall amount of money lent for each lender."
   ]
  },
  {
   "cell_type": "code",
   "execution_count": 14,
   "metadata": {},
   "outputs": [
    {
     "data": {
      "text/plain": [
       "lenders\n",
       "000                1563.881085\n",
       "00000              1249.947363\n",
       "0002               2201.180463\n",
       "00mike00             38.461538\n",
       "0101craign0101     2424.088932\n",
       "                      ...     \n",
       "zzmcfate          60150.832762\n",
       "zzpaghetti9994       44.247788\n",
       "zzrvmf8538          551.829575\n",
       "zzzsai              236.888048\n",
       "zzzworld             26.315789\n",
       "Name: lenders_contribute, Length: 1383799, dtype: float64"
      ]
     },
     "execution_count": 14,
     "metadata": {},
     "output_type": "execute_result"
    }
   ],
   "source": [
    "df_loans['lenders_contribute'] = df_loans['loan_amount'] / df_loans['num_lenders_total']\n",
    "\n",
    "df_lenders_contribute = pd.merge(df_lenders_norm, df_loans[['loan_id'\n",
    "                                                            ,'lenders_contribute']]\n",
    "                                 , on = \"loan_id\")\n",
    "\n",
    "df_lenders_contribute.groupby('lenders')['lenders_contribute'].sum()"
   ]
  },
  {
   "cell_type": "markdown",
   "metadata": {},
   "source": [
    "# Exercise 9"
   ]
  },
  {
   "cell_type": "markdown",
   "metadata": {},
   "source": [
    "Difference between the overall amount of money lent and the overall amount of money borrowed per Country."
   ]
  },
  {
   "cell_type": "code",
   "execution_count": 15,
   "metadata": {},
   "outputs": [
    {
     "data": {
      "text/html": [
       "<div>\n",
       "<style scoped>\n",
       "    .dataframe tbody tr th:only-of-type {\n",
       "        vertical-align: middle;\n",
       "    }\n",
       "\n",
       "    .dataframe tbody tr th {\n",
       "        vertical-align: top;\n",
       "    }\n",
       "\n",
       "    .dataframe thead th {\n",
       "        text-align: right;\n",
       "    }\n",
       "</style>\n",
       "<table border=\"1\" class=\"dataframe\">\n",
       "  <thead>\n",
       "    <tr style=\"text-align: right;\">\n",
       "      <th></th>\n",
       "      <th>permanent_name</th>\n",
       "      <th>display_name</th>\n",
       "      <th>city</th>\n",
       "      <th>state</th>\n",
       "      <th>country_code</th>\n",
       "      <th>member_since</th>\n",
       "      <th>occupation</th>\n",
       "      <th>loan_because</th>\n",
       "      <th>loan_purchase_num</th>\n",
       "      <th>invited_by</th>\n",
       "      <th>num_invited</th>\n",
       "    </tr>\n",
       "  </thead>\n",
       "  <tbody>\n",
       "    <tr>\n",
       "      <th>0</th>\n",
       "      <td>qian3013</td>\n",
       "      <td>Qian</td>\n",
       "      <td>NaN</td>\n",
       "      <td>NaN</td>\n",
       "      <td>NaN</td>\n",
       "      <td>1461300457</td>\n",
       "      <td>NaN</td>\n",
       "      <td>NaN</td>\n",
       "      <td>1.0</td>\n",
       "      <td>NaN</td>\n",
       "      <td>0</td>\n",
       "    </tr>\n",
       "    <tr>\n",
       "      <th>1</th>\n",
       "      <td>reena6733</td>\n",
       "      <td>Reena</td>\n",
       "      <td>NaN</td>\n",
       "      <td>NaN</td>\n",
       "      <td>NaN</td>\n",
       "      <td>1461300634</td>\n",
       "      <td>NaN</td>\n",
       "      <td>NaN</td>\n",
       "      <td>9.0</td>\n",
       "      <td>NaN</td>\n",
       "      <td>0</td>\n",
       "    </tr>\n",
       "    <tr>\n",
       "      <th>2</th>\n",
       "      <td>mai5982</td>\n",
       "      <td>Mai</td>\n",
       "      <td>NaN</td>\n",
       "      <td>NaN</td>\n",
       "      <td>NaN</td>\n",
       "      <td>1461300853</td>\n",
       "      <td>NaN</td>\n",
       "      <td>NaN</td>\n",
       "      <td>NaN</td>\n",
       "      <td>NaN</td>\n",
       "      <td>0</td>\n",
       "    </tr>\n",
       "    <tr>\n",
       "      <th>3</th>\n",
       "      <td>andrew86079135</td>\n",
       "      <td>Andrew</td>\n",
       "      <td>NaN</td>\n",
       "      <td>NaN</td>\n",
       "      <td>NaN</td>\n",
       "      <td>1461301091</td>\n",
       "      <td>NaN</td>\n",
       "      <td>NaN</td>\n",
       "      <td>5.0</td>\n",
       "      <td>Peter Tan</td>\n",
       "      <td>0</td>\n",
       "    </tr>\n",
       "    <tr>\n",
       "      <th>4</th>\n",
       "      <td>nguyen6962</td>\n",
       "      <td>Nguyen</td>\n",
       "      <td>NaN</td>\n",
       "      <td>NaN</td>\n",
       "      <td>NaN</td>\n",
       "      <td>1461301154</td>\n",
       "      <td>NaN</td>\n",
       "      <td>NaN</td>\n",
       "      <td>NaN</td>\n",
       "      <td>NaN</td>\n",
       "      <td>0</td>\n",
       "    </tr>\n",
       "  </tbody>\n",
       "</table>\n",
       "</div>"
      ],
      "text/plain": [
       "   permanent_name display_name city state country_code  member_since  \\\n",
       "0        qian3013         Qian  NaN   NaN          NaN    1461300457   \n",
       "1       reena6733        Reena  NaN   NaN          NaN    1461300634   \n",
       "2         mai5982          Mai  NaN   NaN          NaN    1461300853   \n",
       "3  andrew86079135       Andrew  NaN   NaN          NaN    1461301091   \n",
       "4      nguyen6962       Nguyen  NaN   NaN          NaN    1461301154   \n",
       "\n",
       "  occupation loan_because  loan_purchase_num invited_by  num_invited  \n",
       "0        NaN          NaN                1.0        NaN            0  \n",
       "1        NaN          NaN                9.0        NaN            0  \n",
       "2        NaN          NaN                NaN        NaN            0  \n",
       "3        NaN          NaN                5.0  Peter Tan            0  \n",
       "4        NaN          NaN                NaN        NaN            0  "
      ]
     },
     "execution_count": 15,
     "metadata": {},
     "output_type": "execute_result"
    }
   ],
   "source": [
    "df_lenders_tot = pd.read_csv(\"./lenders.csv\")\n",
    "\n",
    "df_lenders_tot.head()"
   ]
  },
  {
   "cell_type": "code",
   "execution_count": 16,
   "metadata": {},
   "outputs": [],
   "source": [
    "def distribution(country_code):\n",
    "    random.seed(369)\n",
    "    value = pd.unique(country_code.dropna())\n",
    "    percent = country_code.dropna().value_counts() / len(country_code.dropna())\n",
    "    index_where_nan = country_code.index[country_code.isnull()]\n",
    "    return ({'values' : value, 'probs' : percent, 'index_where_nan' : index_where_nan})"
   ]
  },
  {
   "cell_type": "code",
   "execution_count": 17,
   "metadata": {},
   "outputs": [],
   "source": [
    "dictionary = distribution(df_lenders_tot['country_code'])\n",
    "randomizing_country_code = pd.Series(np.random.choice(dictionary['values'], p = dictionary['probs'], size = 1458635), \n",
    "                                index = dictionary['index_where_nan'])\n",
    "df_lenders_tot['country_code'].fillna(randomizing_country_code, inplace = True)\n"
   ]
  },
  {
   "cell_type": "code",
   "execution_count": 18,
   "metadata": {},
   "outputs": [
    {
     "data": {
      "text/html": [
       "<div>\n",
       "<style scoped>\n",
       "    .dataframe tbody tr th:only-of-type {\n",
       "        vertical-align: middle;\n",
       "    }\n",
       "\n",
       "    .dataframe tbody tr th {\n",
       "        vertical-align: top;\n",
       "    }\n",
       "\n",
       "    .dataframe thead th {\n",
       "        text-align: right;\n",
       "    }\n",
       "</style>\n",
       "<table border=\"1\" class=\"dataframe\">\n",
       "  <thead>\n",
       "    <tr style=\"text-align: right;\">\n",
       "      <th></th>\n",
       "      <th>country_code</th>\n",
       "      <th>lent</th>\n",
       "      <th>received</th>\n",
       "      <th>difference</th>\n",
       "    </tr>\n",
       "  </thead>\n",
       "  <tbody>\n",
       "    <tr>\n",
       "      <th>0</th>\n",
       "      <td>AD</td>\n",
       "      <td>2.286583e+04</td>\n",
       "      <td>0.0</td>\n",
       "      <td>2.286583e+04</td>\n",
       "    </tr>\n",
       "    <tr>\n",
       "      <th>1</th>\n",
       "      <td>AE</td>\n",
       "      <td>1.731701e+06</td>\n",
       "      <td>0.0</td>\n",
       "      <td>1.731701e+06</td>\n",
       "    </tr>\n",
       "    <tr>\n",
       "      <th>2</th>\n",
       "      <td>AF</td>\n",
       "      <td>1.274920e+05</td>\n",
       "      <td>1967950.0</td>\n",
       "      <td>-1.840458e+06</td>\n",
       "    </tr>\n",
       "    <tr>\n",
       "      <th>3</th>\n",
       "      <td>AG</td>\n",
       "      <td>7.732945e+02</td>\n",
       "      <td>0.0</td>\n",
       "      <td>7.732945e+02</td>\n",
       "    </tr>\n",
       "    <tr>\n",
       "      <th>4</th>\n",
       "      <td>AI</td>\n",
       "      <td>5.478580e+02</td>\n",
       "      <td>0.0</td>\n",
       "      <td>5.478580e+02</td>\n",
       "    </tr>\n",
       "    <tr>\n",
       "      <th>...</th>\n",
       "      <td>...</td>\n",
       "      <td>...</td>\n",
       "      <td>...</td>\n",
       "      <td>...</td>\n",
       "    </tr>\n",
       "    <tr>\n",
       "      <th>230</th>\n",
       "      <td>YT</td>\n",
       "      <td>4.529018e+03</td>\n",
       "      <td>0.0</td>\n",
       "      <td>4.529018e+03</td>\n",
       "    </tr>\n",
       "    <tr>\n",
       "      <th>231</th>\n",
       "      <td>ZA</td>\n",
       "      <td>4.893572e+05</td>\n",
       "      <td>1006525.0</td>\n",
       "      <td>-5.171678e+05</td>\n",
       "    </tr>\n",
       "    <tr>\n",
       "      <th>232</th>\n",
       "      <td>ZM</td>\n",
       "      <td>3.574739e+04</td>\n",
       "      <td>1978975.0</td>\n",
       "      <td>-1.943228e+06</td>\n",
       "    </tr>\n",
       "    <tr>\n",
       "      <th>233</th>\n",
       "      <td>ZW</td>\n",
       "      <td>6.159879e+03</td>\n",
       "      <td>5851875.0</td>\n",
       "      <td>-5.845715e+06</td>\n",
       "    </tr>\n",
       "    <tr>\n",
       "      <th>234</th>\n",
       "      <td>TD</td>\n",
       "      <td>0.000000e+00</td>\n",
       "      <td>20075.0</td>\n",
       "      <td>-2.007500e+04</td>\n",
       "    </tr>\n",
       "  </tbody>\n",
       "</table>\n",
       "<p>235 rows × 4 columns</p>\n",
       "</div>"
      ],
      "text/plain": [
       "    country_code          lent   received    difference\n",
       "0             AD  2.286583e+04        0.0  2.286583e+04\n",
       "1             AE  1.731701e+06        0.0  1.731701e+06\n",
       "2             AF  1.274920e+05  1967950.0 -1.840458e+06\n",
       "3             AG  7.732945e+02        0.0  7.732945e+02\n",
       "4             AI  5.478580e+02        0.0  5.478580e+02\n",
       "..           ...           ...        ...           ...\n",
       "230           YT  4.529018e+03        0.0  4.529018e+03\n",
       "231           ZA  4.893572e+05  1006525.0 -5.171678e+05\n",
       "232           ZM  3.574739e+04  1978975.0 -1.943228e+06\n",
       "233           ZW  6.159879e+03  5851875.0 -5.845715e+06\n",
       "234           TD  0.000000e+00    20075.0 -2.007500e+04\n",
       "\n",
       "[235 rows x 4 columns]"
      ]
     },
     "execution_count": 18,
     "metadata": {},
     "output_type": "execute_result"
    }
   ],
   "source": [
    "country_received = df_loans.groupby(['country_code'])['loan_amount'].sum().reset_index( name = 'received')\n",
    "df_merged = pd.merge(df_lenders_contribute, df_lenders_tot[['permanent_name', 'country_code']], left_on = 'lenders',\n",
    "                    right_on = 'permanent_name')\n",
    "\n",
    "country_lended = df_merged.groupby('country_code')['lenders_contribute'].sum().reset_index(name = 'lent')\n",
    "lended_received_country = pd.merge(country_lended, country_received, on = 'country_code', how = 'outer')\n",
    "lended_received_country.fillna(0, inplace = True)\n",
    "lended_received_country['difference'] = lended_received_country['lent'] - lended_received_country['received']\n",
    "\n",
    "lended_received_country"
   ]
  },
  {
   "cell_type": "markdown",
   "metadata": {},
   "source": [
    "# Exercise 10"
   ]
  },
  {
   "cell_type": "markdown",
   "metadata": {},
   "source": [
    "Country with the highest ratio between the difference computed at Exercise 9 and the population."
   ]
  },
  {
   "cell_type": "code",
   "execution_count": 19,
   "metadata": {},
   "outputs": [
    {
     "data": {
      "text/html": [
       "<div>\n",
       "<style scoped>\n",
       "    .dataframe tbody tr th:only-of-type {\n",
       "        vertical-align: middle;\n",
       "    }\n",
       "\n",
       "    .dataframe tbody tr th {\n",
       "        vertical-align: top;\n",
       "    }\n",
       "\n",
       "    .dataframe thead th {\n",
       "        text-align: right;\n",
       "    }\n",
       "</style>\n",
       "<table border=\"1\" class=\"dataframe\">\n",
       "  <thead>\n",
       "    <tr style=\"text-align: right;\">\n",
       "      <th></th>\n",
       "      <th>country_name</th>\n",
       "      <th>country_code</th>\n",
       "      <th>country_code3</th>\n",
       "      <th>continent</th>\n",
       "      <th>region</th>\n",
       "      <th>population</th>\n",
       "      <th>population_below_poverty_line</th>\n",
       "      <th>hdi</th>\n",
       "      <th>life_expectancy</th>\n",
       "      <th>expected_years_of_schooling</th>\n",
       "      <th>mean_years_of_schooling</th>\n",
       "      <th>gni</th>\n",
       "      <th>kiva_country_name</th>\n",
       "    </tr>\n",
       "  </thead>\n",
       "  <tbody>\n",
       "    <tr>\n",
       "      <th>0</th>\n",
       "      <td>India</td>\n",
       "      <td>IN</td>\n",
       "      <td>IND</td>\n",
       "      <td>Asia</td>\n",
       "      <td>Southern Asia</td>\n",
       "      <td>1339180127</td>\n",
       "      <td>21.9</td>\n",
       "      <td>0.623559</td>\n",
       "      <td>68.322</td>\n",
       "      <td>11.696590</td>\n",
       "      <td>6.298834</td>\n",
       "      <td>5663.474799</td>\n",
       "      <td>India</td>\n",
       "    </tr>\n",
       "    <tr>\n",
       "      <th>1</th>\n",
       "      <td>Nigeria</td>\n",
       "      <td>NG</td>\n",
       "      <td>NGA</td>\n",
       "      <td>Africa</td>\n",
       "      <td>Western Africa</td>\n",
       "      <td>190886311</td>\n",
       "      <td>70.0</td>\n",
       "      <td>0.527105</td>\n",
       "      <td>53.057</td>\n",
       "      <td>9.970482</td>\n",
       "      <td>6.000000</td>\n",
       "      <td>5442.901264</td>\n",
       "      <td>Nigeria</td>\n",
       "    </tr>\n",
       "    <tr>\n",
       "      <th>2</th>\n",
       "      <td>Mexico</td>\n",
       "      <td>MX</td>\n",
       "      <td>MEX</td>\n",
       "      <td>Americas</td>\n",
       "      <td>Central America</td>\n",
       "      <td>129163276</td>\n",
       "      <td>46.2</td>\n",
       "      <td>0.761683</td>\n",
       "      <td>76.972</td>\n",
       "      <td>13.299090</td>\n",
       "      <td>8.554985</td>\n",
       "      <td>16383.106680</td>\n",
       "      <td>Mexico</td>\n",
       "    </tr>\n",
       "    <tr>\n",
       "      <th>3</th>\n",
       "      <td>Pakistan</td>\n",
       "      <td>PK</td>\n",
       "      <td>PAK</td>\n",
       "      <td>Asia</td>\n",
       "      <td>Southern Asia</td>\n",
       "      <td>197015955</td>\n",
       "      <td>29.5</td>\n",
       "      <td>0.550354</td>\n",
       "      <td>66.365</td>\n",
       "      <td>8.106910</td>\n",
       "      <td>5.089460</td>\n",
       "      <td>5031.173074</td>\n",
       "      <td>Pakistan</td>\n",
       "    </tr>\n",
       "    <tr>\n",
       "      <th>4</th>\n",
       "      <td>Bangladesh</td>\n",
       "      <td>BD</td>\n",
       "      <td>BGD</td>\n",
       "      <td>Asia</td>\n",
       "      <td>Southern Asia</td>\n",
       "      <td>164669751</td>\n",
       "      <td>31.5</td>\n",
       "      <td>0.578824</td>\n",
       "      <td>71.985</td>\n",
       "      <td>10.178706</td>\n",
       "      <td>5.241577</td>\n",
       "      <td>3341.490722</td>\n",
       "      <td>Bangladesh</td>\n",
       "    </tr>\n",
       "    <tr>\n",
       "      <th>...</th>\n",
       "      <td>...</td>\n",
       "      <td>...</td>\n",
       "      <td>...</td>\n",
       "      <td>...</td>\n",
       "      <td>...</td>\n",
       "      <td>...</td>\n",
       "      <td>...</td>\n",
       "      <td>...</td>\n",
       "      <td>...</td>\n",
       "      <td>...</td>\n",
       "      <td>...</td>\n",
       "      <td>...</td>\n",
       "      <td>...</td>\n",
       "    </tr>\n",
       "    <tr>\n",
       "      <th>169</th>\n",
       "      <td>Somalia</td>\n",
       "      <td>SO</td>\n",
       "      <td>SOM</td>\n",
       "      <td>Africa</td>\n",
       "      <td>Eastern Africa</td>\n",
       "      <td>14742523</td>\n",
       "      <td>NaN</td>\n",
       "      <td>NaN</td>\n",
       "      <td>NaN</td>\n",
       "      <td>NaN</td>\n",
       "      <td>NaN</td>\n",
       "      <td>NaN</td>\n",
       "      <td>Somalia</td>\n",
       "    </tr>\n",
       "    <tr>\n",
       "      <th>170</th>\n",
       "      <td>Central African Republic</td>\n",
       "      <td>CF</td>\n",
       "      <td>CAF</td>\n",
       "      <td>Africa</td>\n",
       "      <td>Middle Africa</td>\n",
       "      <td>4659080</td>\n",
       "      <td>NaN</td>\n",
       "      <td>0.352440</td>\n",
       "      <td>51.458</td>\n",
       "      <td>7.098980</td>\n",
       "      <td>4.230000</td>\n",
       "      <td>587.473961</td>\n",
       "      <td>Central African Republic</td>\n",
       "    </tr>\n",
       "    <tr>\n",
       "      <th>171</th>\n",
       "      <td>Samoa</td>\n",
       "      <td>WS</td>\n",
       "      <td>WSM</td>\n",
       "      <td>Oceania</td>\n",
       "      <td>Polynesia</td>\n",
       "      <td>196440</td>\n",
       "      <td>NaN</td>\n",
       "      <td>0.702000</td>\n",
       "      <td>NaN</td>\n",
       "      <td>NaN</td>\n",
       "      <td>NaN</td>\n",
       "      <td>NaN</td>\n",
       "      <td>Samoa</td>\n",
       "    </tr>\n",
       "    <tr>\n",
       "      <th>172</th>\n",
       "      <td>Palestine</td>\n",
       "      <td>PS</td>\n",
       "      <td>PS</td>\n",
       "      <td>Asia</td>\n",
       "      <td>Western Asia</td>\n",
       "      <td>4920724</td>\n",
       "      <td>NaN</td>\n",
       "      <td>0.677000</td>\n",
       "      <td>NaN</td>\n",
       "      <td>NaN</td>\n",
       "      <td>NaN</td>\n",
       "      <td>NaN</td>\n",
       "      <td>Palestine</td>\n",
       "    </tr>\n",
       "    <tr>\n",
       "      <th>173</th>\n",
       "      <td>Kosovo</td>\n",
       "      <td>XK</td>\n",
       "      <td>NaN</td>\n",
       "      <td>Europe</td>\n",
       "      <td>Southern Europe</td>\n",
       "      <td>1895250</td>\n",
       "      <td>30.0</td>\n",
       "      <td>0.786000</td>\n",
       "      <td>NaN</td>\n",
       "      <td>NaN</td>\n",
       "      <td>NaN</td>\n",
       "      <td>NaN</td>\n",
       "      <td>Kosovo</td>\n",
       "    </tr>\n",
       "  </tbody>\n",
       "</table>\n",
       "<p>174 rows × 13 columns</p>\n",
       "</div>"
      ],
      "text/plain": [
       "                 country_name country_code country_code3 continent  \\\n",
       "0                       India           IN           IND      Asia   \n",
       "1                     Nigeria           NG           NGA    Africa   \n",
       "2                      Mexico           MX           MEX  Americas   \n",
       "3                    Pakistan           PK           PAK      Asia   \n",
       "4                  Bangladesh           BD           BGD      Asia   \n",
       "..                        ...          ...           ...       ...   \n",
       "169                   Somalia           SO           SOM    Africa   \n",
       "170  Central African Republic           CF           CAF    Africa   \n",
       "171                     Samoa           WS           WSM   Oceania   \n",
       "172                 Palestine           PS            PS      Asia   \n",
       "173                    Kosovo           XK           NaN    Europe   \n",
       "\n",
       "              region  population  population_below_poverty_line       hdi  \\\n",
       "0      Southern Asia  1339180127                           21.9  0.623559   \n",
       "1     Western Africa   190886311                           70.0  0.527105   \n",
       "2    Central America   129163276                           46.2  0.761683   \n",
       "3      Southern Asia   197015955                           29.5  0.550354   \n",
       "4      Southern Asia   164669751                           31.5  0.578824   \n",
       "..               ...         ...                            ...       ...   \n",
       "169   Eastern Africa    14742523                            NaN       NaN   \n",
       "170    Middle Africa     4659080                            NaN  0.352440   \n",
       "171        Polynesia      196440                            NaN  0.702000   \n",
       "172     Western Asia     4920724                            NaN  0.677000   \n",
       "173  Southern Europe     1895250                           30.0  0.786000   \n",
       "\n",
       "     life_expectancy  expected_years_of_schooling  mean_years_of_schooling  \\\n",
       "0             68.322                    11.696590                 6.298834   \n",
       "1             53.057                     9.970482                 6.000000   \n",
       "2             76.972                    13.299090                 8.554985   \n",
       "3             66.365                     8.106910                 5.089460   \n",
       "4             71.985                    10.178706                 5.241577   \n",
       "..               ...                          ...                      ...   \n",
       "169              NaN                          NaN                      NaN   \n",
       "170           51.458                     7.098980                 4.230000   \n",
       "171              NaN                          NaN                      NaN   \n",
       "172              NaN                          NaN                      NaN   \n",
       "173              NaN                          NaN                      NaN   \n",
       "\n",
       "              gni         kiva_country_name  \n",
       "0     5663.474799                     India  \n",
       "1     5442.901264                   Nigeria  \n",
       "2    16383.106680                    Mexico  \n",
       "3     5031.173074                  Pakistan  \n",
       "4     3341.490722                Bangladesh  \n",
       "..            ...                       ...  \n",
       "169           NaN                   Somalia  \n",
       "170    587.473961  Central African Republic  \n",
       "171           NaN                     Samoa  \n",
       "172           NaN                 Palestine  \n",
       "173           NaN                    Kosovo  \n",
       "\n",
       "[174 rows x 13 columns]"
      ]
     },
     "execution_count": 19,
     "metadata": {},
     "output_type": "execute_result"
    }
   ],
   "source": [
    "df_stats = pd.read_csv(\"./country_stats.csv\")\n",
    "\n",
    "df_stats"
   ]
  },
  {
   "cell_type": "code",
   "execution_count": 20,
   "metadata": {},
   "outputs": [],
   "source": [
    "#difference = pd.DataFrame(df_amount_per_country['loan_amount_x'] - df_amount_per_country['loan_amount_y'])"
   ]
  },
  {
   "cell_type": "code",
   "execution_count": 21,
   "metadata": {},
   "outputs": [
    {
     "ename": "NameError",
     "evalue": "name 'received_lended_by_country' is not defined",
     "output_type": "error",
     "traceback": [
      "\u001b[1;31m---------------------------------------------------------------------------\u001b[0m",
      "\u001b[1;31mNameError\u001b[0m                                 Traceback (most recent call last)",
      "\u001b[1;32m<ipython-input-21-0df8e79337cc>\u001b[0m in \u001b[0;36m<module>\u001b[1;34m\u001b[0m\n\u001b[1;32m----> 1\u001b[1;33m loan_amount_by_country = pd.merge(received_lended_by_country, df_stats[['population_below_poverty_line','country_code' , 'population']]\n\u001b[0m\u001b[0;32m      2\u001b[0m                                   , on = 'country_code')\n\u001b[0;32m      3\u001b[0m \u001b[1;33m\u001b[0m\u001b[0m\n\u001b[0;32m      4\u001b[0m \u001b[0mloan_amount_by_country\u001b[0m \u001b[1;33m=\u001b[0m \u001b[0mloan_amount_by_country\u001b[0m\u001b[1;33m.\u001b[0m\u001b[0mset_index\u001b[0m\u001b[1;33m(\u001b[0m\u001b[1;34m'country_code'\u001b[0m\u001b[1;33m)\u001b[0m\u001b[1;33m\u001b[0m\u001b[1;33m\u001b[0m\u001b[0m\n\u001b[0;32m      5\u001b[0m \u001b[1;33m\u001b[0m\u001b[0m\n",
      "\u001b[1;31mNameError\u001b[0m: name 'received_lended_by_country' is not defined"
     ]
    }
   ],
   "source": [
    "loan_amount_by_country = pd.merge(received_lended_by_country, df_stats[['population_below_poverty_line','country_code' , 'population']]\n",
    "                                  , on = 'country_code')\n",
    "\n",
    "loan_amount_by_country = loan_amount_by_country.set_index('country_code')\n",
    "\n",
    "(loan_amount_by_country['difference'] / loan_amount_by_country['population']).idxmax()"
   ]
  },
  {
   "cell_type": "markdown",
   "metadata": {},
   "source": [
    "# Exercise 11"
   ]
  },
  {
   "cell_type": "markdown",
   "metadata": {},
   "source": [
    "Country with the highest ratio between the difference computed at Exercise 9 and the population below the poverty line."
   ]
  },
  {
   "cell_type": "code",
   "execution_count": null,
   "metadata": {},
   "outputs": [],
   "source": [
    "#loan_amount_by_country = pd.merge(difference, df_stats[['population_below_poverty_line', 'country_code', 'population']], on = 'country_code')\n",
    "#loan_amount_by_country= loan_amount_by_country.set_index('country_code')\n",
    "\n",
    "loan_amount_by_country['population_not_below_poverty_line'] = 100 - loan_amount_by_country['population_below_poverty_line']\n",
    "\n",
    "loan_amount_by_country['population_not_below_poverty_line']"
   ]
  },
  {
   "cell_type": "code",
   "execution_count": null,
   "metadata": {},
   "outputs": [],
   "source": [
    "(loan_amount_by_country['difference'] / loan_amount_by_country['population_not_below_poverty_line']).idxmax()"
   ]
  },
  {
   "cell_type": "markdown",
   "metadata": {},
   "source": [
    "# Exercise 12"
   ]
  },
  {
   "cell_type": "markdown",
   "metadata": {},
   "source": [
    "Day-Weighted total amount of loans for each year."
   ]
  },
  {
   "cell_type": "code",
   "execution_count": null,
   "metadata": {
    "scrolled": true
   },
   "outputs": [],
   "source": [
    "#func that returns the number of days taking place between two dates\n",
    "def day_calc(date1, date2):\n",
    "    \n",
    "    #because sometimes planned_expiration_time is after in time than disburse time,\n",
    "    #the function takes as date1 the first date in time between planned_expiration_time and disburse_time\n",
    "    (begin,end) = (date1,date2) if date1<date2 else (date2,date1)\n",
    "    date_list = list()\n",
    "    date_list.append(begin)\n",
    "    \n",
    "    for y in range(begin.year+1, end.year+1):\n",
    "        date_list.append(pd.Timestamp(year=y, month=1, day=1, tz='utc'))\n",
    "    date_list.append(end)\n",
    "    \n",
    "    res = dict()\n",
    "    for i in range(len(date_list)-1):\n",
    "        res[date_list[i].year] = (date_list[i+1] - date_list[i]).days\n",
    "\n",
    "    return pd.Series(res, name = 'DateValue')\n",
    "\n",
    "data_loans = df_loans.dropna(subset = ['planned_expiration_time', 'disburse_time'])\n",
    "\n",
    "# applying the day_calc function using .apply \n",
    "df_day_weighted = data_loans.apply(lambda x: day_calc(x['planned_expiration_time'],x['disburse_time']), axis = 1)\n",
    "df_day_weighted.head()"
   ]
  },
  {
   "cell_type": "code",
   "execution_count": null,
   "metadata": {},
   "outputs": [],
   "source": [
    "#converting duration values to absolute values\n",
    "df_loans['duration'] = df_loans['duration'].abs()\n",
    "\n",
    "#concat using pandas index properties\n",
    "df_day_weighted.fillna(0, inplace= True)\n",
    "df_day_weighted = pd.concat([df_day_weighted, data_loans['loan_amount']\n",
    "                             , data_loans['duration'] ]\n",
    "                            , axis = 1, sort = True)"
   ]
  },
  {
   "cell_type": "code",
   "execution_count": null,
   "metadata": {},
   "outputs": [],
   "source": [
    "loan = df_day_weighted[[2011,2012,2013,2014,2015,2016,2017,2018\n",
    "                        ]].div(df_day_weighted.duration, axis=0).mul(df_day_weighted.loan_amount, axis = 0)\n",
    "\n",
    "#total amount of loans for each year\n",
    "loan.sum()"
   ]
  },
  {
   "cell_type": "code",
   "execution_count": null,
   "metadata": {
    "scrolled": true
   },
   "outputs": [],
   "source": [
    "#using time.time to evaluate the script performance\n",
    "end = time.time()\n",
    "\n",
    "print(\"This script took: {} minutes\".format(int((end-start)/60)))"
   ]
  }
 ],
 "metadata": {
  "kernelspec": {
   "display_name": "Python 3",
   "language": "python",
   "name": "python3"
  }
 },
 "nbformat": 4,
 "nbformat_minor": 2
}
